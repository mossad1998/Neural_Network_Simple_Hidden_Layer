{
 "cells": [
  {
   "cell_type": "code",
   "execution_count": 8,
   "id": "a7987bc3-9232-4c1b-87e3-e9866d0e6070",
   "metadata": {},
   "outputs": [
    {
     "data": {
      "image/png": "[encoded data removed]",
      "text/plain": [
       "<Figure size 432x288 with 1 Axes>"
      ]
     },
     "metadata": {
      "needs_background": "light"
     },
     "output_type": "display_data"
    }
   ],
   "source": [
    "from pylab import *\n",
    "import matplotlib.pyplot as plt\n",
    "import numpy as np\n",
    "\n",
    "#Classify ([3,1],1) - ([4,0],1) - ([4,-1],1) - ([5,2],0)- ([5,3],0) - ([3,3],0) - ([2,0],0)- ([1,1],0)\n",
    "x1 = [3,4,4,5,5,3,2,1]\n",
    "x2 = [1,0,-1,2,3,3,0,1]\n",
    "\n",
    "#Red class for [3,1], [4,0], and [4,-1]\n",
    "#Green class for [5,2], [5,3], [3,3], [2,0], and [1,1]\n",
    "color=['r','r','r','g','g','g','g','g']\n",
    "\n",
    "#plot four points respect to their classes\n",
    "plt.scatter(x1, x2, marker='o', c=color)\n",
    "\n",
    "#Consider the first separation line goes through [-1,1.5] and [7,1.5] for the first perceptron\n",
    "l1x1, l1x2 = [-1, 7], [1.5, 1.5]\n",
    "\n",
    "#Consider the second separation line goes through [2.5,-3] and [2.5,5] for the second perceptron\n",
    "l2x1, l2x2 = [2.5, 2.5], [-3, 5]\n",
    "\n",
    "#Plot the separation Lines \n",
    "plt.plot(l1x1, l1x2, marker = 'o')\n",
    "plt.plot(l2x1, l2x2, marker = 'o')\n",
    "\n",
    "grid()\n",
    "plt.show()"
   ]
  },
  {
   "cell_type": "code",
   "execution_count": 14,
   "id": "20e9221c-e479-48e9-b78b-56853d8210d5",
   "metadata": {},
   "outputs": [
    {
     "name": "stdout",
     "output_type": "stream",
     "text": [
      "_#_#_#_#_#_#_First_Perceptron_Classification_#_#_#_#_#_#_\n",
      "point# 1 (  3  ,  1  )-------------> Class 1\n",
      "point# 2 (  4  ,  0  )-------------> Class 1\n",
      "point# 3 (  4  , -1  )-------------> Class 1\n",
      "point# 4 (  5  ,  2  )-------------> Class 0\n",
      "point# 5 (  5  ,  3  )-------------> Class 0\n",
      "point# 6 (  3  ,  3  )-------------> Class 0\n",
      "point# 7 (  2  ,  0  )-------------> Class 1\n",
      "point# 8 (  1  ,  1  )-------------> Class 1\n",
      "_#_#_#_#_#_#_Second_Perceptron_Classification_#_#_#_#_#_#_\n",
      "point# 1 (  3  ,  1  )-------------> Class 1\n",
      "point# 2 (  4  ,  0  )-------------> Class 1\n",
      "point# 3 (  4  , -1  )-------------> Class 1\n",
      "point# 4 (  5  ,  2  )-------------> Class 1\n",
      "point# 5 (  5  ,  3  )-------------> Class 1\n",
      "point# 6 (  3  ,  3  )-------------> Class 1\n",
      "point# 7 (  2  ,  0  )-------------> Class 0\n",
      "point# 8 (  1  ,  1  )-------------> Class 0\n",
      "Third perceptron is needed to merge these results and determine the final classification\n"
     ]
    }
   ],
   "source": [
    "#Storing x1 values in x_vlues array and x2 values in y_values array to compute the functions\n",
    "x_values = np.array(x1)\n",
    "y_values = np.array(x2)\n",
    "\n",
    "#Calculating the function values for the first perceptron which is f(x1,x2)=-x2+1.5\n",
    "y1 = -y_values +1.5\n",
    "\n",
    "#Calculating the function values for the second perceptron which is f(x1,x2)=x1-2.5\n",
    "y2 = x_values -2.5\n",
    "\n",
    "#Calculating step function as int32 for the first perceptron\n",
    "class_results_y1 = np.array(np.heaviside(y1,0),dtype=np.int32)\n",
    "\n",
    "#Calculating step function as int32 for the second perceptron\n",
    "class_results_y2 = np.array(np.heaviside(y2,0),dtype=np.int32)\n",
    "\n",
    "#What does first perceptron see?!\n",
    "print (\"_#_#_#_#_#_#_First_Perceptron_Classification_#_#_#_#_#_#_\")\n",
    "for i in range(0, class_results_y1.size):\n",
    "    print(\"point#\" ,i+1, \"(\",'{: ^3}'.format(x1[i]),\",\",'{: ^3}'.format(x2[i]),\")-------------> Class\",class_results_y1[i])\n",
    "    \n",
    "#What does second perceptron see?!\n",
    "print (\"_#_#_#_#_#_#_Second_Perceptron_Classification_#_#_#_#_#_#_\")\n",
    "for i in range(0, class_results_y2.size):\n",
    "    print(\"point#\" ,i+1, \"(\",'{: ^3}'.format(x1[i]),\",\",'{: ^3}'.format(x2[i]),\")-------------> Class\",class_results_y2[i])\n",
    "    \n",
    "print (\"Third perceptron is needed to classify results from both perceptrons to determine the final classification\")"
   ]
  },
  {
   "cell_type": "code",
   "execution_count": 21,
   "id": "c15dac98-697b-4a8b-a312-cc18f0c290fc",
   "metadata": {},
   "outputs": [
    {
     "data": {
      "image/png": "[encoded data removed]",
      "text/plain": [
       "<Figure size 432x288 with 1 Axes>"
      ]
     },
     "metadata": {
      "needs_background": "light"
     },
     "output_type": "display_data"
    }
   ],
   "source": [
    "#Possible combination from both perceptrons are ([0,0],1) - ([1,0],0) - ([0,1],0) - ([1,1],1)\n",
    "y1 = [0,1,0,1]\n",
    "y2 = [0,0,1,1]\n",
    "\n",
    "#Red class for [1,1],\n",
    "#Green class for [0,0], [0,1], [1,0]\n",
    "color=['g','g','g','r']\n",
    "\n",
    "#plot four points respect to their classes\n",
    "plt.scatter(y1, y2, marker='o', c=color)\n",
    "\n",
    "#Consider the third separation line goes through [1.5,0] and [0,1.5] for the third perceptron\n",
    "ly1, ly2 = [1.5, 0], [0, 1.5]\n",
    "\n",
    "#Plot the separation Lines \n",
    "plt.plot(ly1, ly2, marker = 'o')\n",
    "\n",
    "grid()\n",
    "plt.show()"
   ]
  },
  {
   "cell_type": "code",
   "execution_count": 23,
   "id": "a7e63a7c-a5a7-4784-9b53-bdb7c3b98678",
   "metadata": {},
   "outputs": [
    {
     "name": "stdout",
     "output_type": "stream",
     "text": [
      "point# 1 (  3  ,  1  )-------------> Class 1\n",
      "point# 2 (  4  ,  0  )-------------> Class 1\n",
      "point# 3 (  4  , -1  )-------------> Class 1\n",
      "point# 4 (  5  ,  2  )-------------> Class 0\n",
      "point# 5 (  5  ,  3  )-------------> Class 0\n",
      "point# 6 (  3  ,  3  )-------------> Class 0\n",
      "point# 7 (  2  ,  0  )-------------> Class 0\n",
      "point# 8 (  1  ,  1  )-------------> Class 0\n"
     ]
    }
   ],
   "source": [
    "#Calculating the function values for the third perceptron which is f(y1,y2)=y1+y2-1.5\n",
    "fy = class_results_y1 + class_results_y2 - 1.5\n",
    "\n",
    "#Calculating step function as int32 for the third perceptron\n",
    "class_results = np.array(np.heaviside(fy,0),dtype=np.int32)\n",
    "\n",
    "#Classify using third perceptron\n",
    "for i in range(0, class_results.size):\n",
    "    print(\"point#\" ,i+1, \"(\",'{: ^3}'.format(x1[i]),\",\",'{: ^3}'.format(x2[i]),\")-------------> Class\",class_results[i])\n",
    "    "
   ]
  },
  {
   "cell_type": "code",
   "execution_count": 36,
   "id": "2f095edd-beef-412a-82f5-f559e0a9c1c5",
   "metadata": {},
   "outputs": [
    {
     "name": "stdout",
     "output_type": "stream",
     "text": [
      "point# 1 (  5  ,  0.0  ) ----------> Class 1\n",
      "point# 2 (  6  , -2.0  ) ----------> Class 1\n",
      "point# 3 (  4  ,  5.0  ) ----------> Class 0\n",
      "point# 4 (  0  ,  1.0  ) ----------> Class 0\n",
      "point# 5 (  3  , -1.5  ) ----------> Class 1\n",
      "point# 6 (  0  , -2.0  ) ----------> Class 0\n",
      "point# 7 (  1  ,  5.0  ) ----------> Class 0\n",
      "point# 8 (  2  ,  3.0  ) ----------> Class 0\n",
      "point# 9 (  3  ,  0.0  ) ----------> Class 1\n"
     ]
    }
   ],
   "source": [
    "#Classify these points [5,0] , [6,-2] , [4,5] , [0,1] , [3,-1.5] , [0,-2] , [1,5] , [2,3] , [3,0]\n",
    "\n",
    "#X part of the points\n",
    "x = np.array([5,6,4,0,3,0,1,2,3])\n",
    "\n",
    "#Y part of the points\n",
    "y = np.array([0,-2,5,1,-1.5,-2,5,3,0])\n",
    "\n",
    "#Calculating the function values for the first perceptron which is f(x1,x2)=-x2+1.5\n",
    "y1 = -y +1.5\n",
    "\n",
    "#Calculating the function values for the second perceptron which is f(x1,x2)=x1-2.5\n",
    "y2 = x -2.5\n",
    "\n",
    "#Calculating step function as int32 for the first perceptron\n",
    "class_results_y1 = np.array(np.heaviside(y1,0),dtype=np.int32)\n",
    "\n",
    "#Calculating step function as int32 for the second perceptron\n",
    "class_results_y2 = np.array(np.heaviside(y2,0),dtype=np.int32)\n",
    "\n",
    "#Calculating the function values for the third perceptron which is f(y1,y2)=y1+y2-1.5\n",
    "fy = class_results_y1 + class_results_y2 - 1.5\n",
    "\n",
    "#Calculating step function as int32 for the third perceptron\n",
    "class_results_classify = np.array(np.heaviside(fy,0),dtype=np.int32)\n",
    "\n",
    "color_result = [None]*class_results_classify.size\n",
    "\n",
    "#classify using the perceptron\n",
    "for i in range(0, class_results_classify.size):\n",
    "    print(\"point#\",i+1, \"(\",'{: ^3}'.format(x[i]),\",\",'{: ^5}'.format(y[i]),\")\",\"----------> Class\",class_results_classify[i])\n",
    "    if class_results_classify[i] == 1:\n",
    "        color_result[i] = 'r'\n",
    "    elif class_results_classify[i] == 0:\n",
    "        color_result[i]= 'g'"
   ]
  },
  {
   "cell_type": "code",
   "execution_count": 37,
   "id": "4912a9c5-ffe4-47e8-89f5-ee91ce10b39e",
   "metadata": {},
   "outputs": [
    {
     "data": {
      "image/png": "[encoded data removed]",
      "text/plain": [
       "<Figure size 432x288 with 1 Axes>"
      ]
     },
     "metadata": {
      "needs_background": "light"
     },
     "output_type": "display_data"
    }
   ],
   "source": [
    "#Color for the given eight points\n",
    "color=['r','r','r','g','g','g','g','g']\n",
    "\n",
    "#plot eight points respect to their classes\n",
    "plt.scatter(x1, x2, marker='o', c=color)\n",
    "\n",
    "#Plot the separation Lines \n",
    "plt.plot(l1x1, l1x2, marker = 'o')\n",
    "plt.plot(l2x1, l2x2, marker = 'o')  \n",
    "\n",
    "#plot four points respect to their classes\n",
    "plt.scatter(x, y, marker='x', c=color_result)\n",
    "\n",
    "grid()\n",
    "plt.show()"
   ]
  },
  {
   "cell_type": "code",
   "execution_count": null,
   "id": "5570339a-44dd-43a2-93cd-3438ee60277a",
   "metadata": {},
   "outputs": [],
   "source": []
  }
 ],
 "metadata": {
  "kernelspec": {
   "display_name": "Python 3 (ipykernel)",
   "language": "python",
   "name": "python3"
  },
  "language_info": {
   "codemirror_mode": {
    "name": "ipython",
    "version": 3
   },
   "file_extension": ".py",
   "mimetype": "text/x-python",
   "name": "python",
   "nbconvert_exporter": "python",
   "pygments_lexer": "ipython3",
   "version": "3.9.7"
  }
 },
 "nbformat": 4,
 "nbformat_minor": 5
}
